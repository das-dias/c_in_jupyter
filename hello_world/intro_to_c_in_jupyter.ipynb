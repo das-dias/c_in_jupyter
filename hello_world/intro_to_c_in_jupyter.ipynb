{
 "cells": [
  {
   "cell_type": "markdown",
   "metadata": {},
   "source": [
    "# Introduction: Hello World!"
   ]
  },
  {
   "cell_type": "markdown",
   "metadata": {},
   "source": [
    "Start by writting your C lang. file:"
   ]
  },
  {
   "cell_type": "code",
   "execution_count": 18,
   "metadata": {},
   "outputs": [
    {
     "name": "stdout",
     "output_type": "stream",
     "text": [
      "Overwriting hello_world.c\n"
     ]
    }
   ],
   "source": [
    "\n",
    "%%file hello_world.c\n",
    "#include <stdio.h>\n",
    "#include <stdlib.h>\n",
    "\n",
    "int main(int argc, char **argv) {\n",
    "  printf(\"Hello World from C in Jupyter!\");\n",
    "  exit(0);\n",
    "}"
   ]
  },
  {
   "cell_type": "markdown",
   "metadata": {},
   "source": [
    "Now, compile your C code."
   ]
  },
  {
   "cell_type": "code",
   "execution_count": 19,
   "metadata": {},
   "outputs": [
    {
     "name": "stdout",
     "output_type": "stream",
     "text": [
      "Apple clang version 15.0.0 (clang-1500.3.9.4)\n",
      "Target: arm64-apple-darwin23.6.0\n",
      "Thread model: posix\n",
      "InstalledDir: /Library/Developer/CommandLineTools/usr/bin\n"
     ]
    }
   ],
   "source": [
    "%%bash\n",
    "gcc --version"
   ]
  },
  {
   "cell_type": "markdown",
   "metadata": {},
   "source": [
    "Compiling the code with the:\n",
    "- `-W` or `--Wall` flag is useful, enabling a wide variety of usefull warnings\n",
    "- `-Werror` treats critical warnings as errors, to make your code bulletproof once debugged."
   ]
  },
  {
   "cell_type": "code",
   "execution_count": 20,
   "metadata": {},
   "outputs": [],
   "source": [
    "%%bash\n",
    "gcc ./hello_world.c -g -Werror -o hello_world"
   ]
  },
  {
   "cell_type": "markdown",
   "metadata": {},
   "source": [
    "Now, we can finally execute our C code from Jupyter."
   ]
  },
  {
   "cell_type": "code",
   "execution_count": 21,
   "metadata": {},
   "outputs": [
    {
     "name": "stdout",
     "output_type": "stream",
     "text": [
      "Hello World from C in Jupyter!"
     ]
    }
   ],
   "source": [
    "%%bash\n",
    "./hello_world"
   ]
  },
  {
   "cell_type": "markdown",
   "metadata": {},
   "source": [
    "# Testing the C program: Python scripting"
   ]
  },
  {
   "cell_type": "markdown",
   "metadata": {},
   "source": [
    "We can now take advantage of having a documentation system with shell and Python scripting capabilities to quickly develop input testing files to run multiple test cases against the C program. This effectively automates the unit testing of the C program."
   ]
  },
  {
   "cell_type": "code",
   "execution_count": 13,
   "metadata": {},
   "outputs": [],
   "source": [
    "from itertools import permutations\n",
    "\n",
    "inputs = permutations([3, 'A', '+', 6, 43])\n",
    "with open('permutations.in', 'w') as testfile:\n",
    "  def str_from_perm(perm: list) -> str:\n",
    "    s = str(perm)\n",
    "    s = s.replace('(', ''); s = s.replace(')', ''); \n",
    "    s = s.replace(\"'\", ''); s = s.replace(',', '')\n",
    "    return s + '\\n'\n",
    "  [testfile.write(str_from_perm(perm)) for perm in inputs]"
   ]
  },
  {
   "cell_type": "code",
   "execution_count": 129,
   "metadata": {},
   "outputs": [
    {
     "name": "stdout",
     "output_type": "stream",
     "text": [
      "Overwriting permutations.c\n"
     ]
    }
   ],
   "source": [
    "%%file permutations.c\n",
    "#include <stdlib.h>\n",
    "#include <stdio.h>\n",
    "#include <string.h>\n",
    "#include <assert.h>\n",
    "\n",
    "char *expected_tokens[] = {\"3\", \"A\", \"+\", \"6\", \"43\", NULL};\n",
    "\n",
    "int arg_in_expected_tokens(char *arg, char **tokens){\n",
    "  int found_token_chars = 0;\n",
    "  for(char **it_token = tokens; *it_token != NULL; it_token++){\n",
    "    if(!strcmp(arg, *it_token))\n",
    "      return 1;\n",
    "  }\n",
    "  printf(\"Assertion Failed: %s not in [\", arg);\n",
    "  for(char **it_token = tokens; *it_token != NULL; ++it_token)\n",
    "    printf(\"%s, \", *it_token);\n",
    "  printf(\"]\\n\");\n",
    "  return 0;\n",
    "}\n",
    "\n",
    "int main(int argc, char **argv) {\n",
    "  assert(argc>1);\n",
    "  for(int i = 1; i < argc; i++)\n",
    "    assert(arg_in_expected_tokens(argv[i], expected_tokens));\n",
    "  printf(\"Tests: Passed\\n\");\n",
    "  exit(0);\n",
    "}"
   ]
  },
  {
   "cell_type": "code",
   "execution_count": 130,
   "metadata": {},
   "outputs": [],
   "source": [
    "%%bash\n",
    "gcc ./permutations.c -g -Werror -o permutations"
   ]
  },
  {
   "cell_type": "markdown",
   "metadata": {},
   "source": [
    "Finally, use bash shell scripting to input all inputs, line by line, to the C programm, so that each test is verified."
   ]
  },
  {
   "cell_type": "code",
   "execution_count": 131,
   "metadata": {},
   "outputs": [],
   "source": [
    "%%bash\n",
    "echo \"\" > permutations.out\n",
    "cat permutations.in | while read line\n",
    "do\n",
    "  ./permutations $line >> permutations.out\n",
    "done"
   ]
  },
  {
   "cell_type": "markdown",
   "metadata": {},
   "source": [
    "If you're developing in Linux, you can even use [Valgrind](http://valgrind.org/) to automatically detect many memory management and threading bugs, and profile your programs in detail."
   ]
  }
 ],
 "metadata": {
  "kernelspec": {
   "display_name": ".venv",
   "language": "python",
   "name": "python3"
  },
  "language_info": {
   "codemirror_mode": {
    "name": "ipython",
    "version": 3
   },
   "file_extension": ".py",
   "mimetype": "text/x-python",
   "name": "python",
   "nbconvert_exporter": "python",
   "pygments_lexer": "ipython3",
   "version": "3.11.10"
  }
 },
 "nbformat": 4,
 "nbformat_minor": 2
}
